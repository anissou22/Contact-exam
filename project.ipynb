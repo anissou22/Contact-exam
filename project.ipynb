{
 "cells": [
  {
   "attachments": {},
   "cell_type": "markdown",
   "metadata": {},
   "source": [
    "# Contact Feature"
   ]
  },
  {
   "attachments": {},
   "cell_type": "markdown",
   "metadata": {},
   "source": [
    "This project consists to create, update and delete contacts from a phone "
   ]
  },
  {
   "attachments": {},
   "cell_type": "markdown",
   "metadata": {},
   "source": [
    "Imported libraries"
   ]
  },
  {
   "cell_type": "code",
   "execution_count": 5,
   "metadata": {},
   "outputs": [],
   "source": [
    "import pandas as pd\n",
    "from datetime import date"
   ]
  },
  {
   "attachments": {},
   "cell_type": "markdown",
   "metadata": {},
   "source": [
    "CLASS"
   ]
  },
  {
   "cell_type": "code",
   "execution_count": 6,
   "metadata": {},
   "outputs": [],
   "source": [
    "class contact(object):\n",
    "    def __init__ (self , first_name , last_name , number ):\n",
    "        self.first_name = first_name\n",
    "        self.last_name = last_name\n",
    "        self.number = number\n",
    "        self.date_creation = date.today ()\n",
    "         \n"
   ]
  },
  {
   "attachments": {},
   "cell_type": "markdown",
   "metadata": {},
   "source": [
    "CREATE"
   ]
  },
  {
   "cell_type": "code",
   "execution_count": 7,
   "metadata": {},
   "outputs": [
    {
     "data": {
      "text/html": [
       "<div>\n",
       "<style scoped>\n",
       "    .dataframe tbody tr th:only-of-type {\n",
       "        vertical-align: middle;\n",
       "    }\n",
       "\n",
       "    .dataframe tbody tr th {\n",
       "        vertical-align: top;\n",
       "    }\n",
       "\n",
       "    .dataframe thead th {\n",
       "        text-align: right;\n",
       "    }\n",
       "</style>\n",
       "<table border=\"1\" class=\"dataframe\">\n",
       "  <thead>\n",
       "    <tr style=\"text-align: right;\">\n",
       "      <th></th>\n",
       "      <th>first name</th>\n",
       "      <th>last name</th>\n",
       "      <th>number</th>\n",
       "      <th>creation date</th>\n",
       "    </tr>\n",
       "  </thead>\n",
       "  <tbody>\n",
       "    <tr>\n",
       "      <th>0</th>\n",
       "      <td>b</td>\n",
       "      <td>nb</td>\n",
       "      <td>à</td>\n",
       "      <td>2023-01-26</td>\n",
       "    </tr>\n",
       "  </tbody>\n",
       "</table>\n",
       "</div>"
      ],
      "text/plain": [
       "  first name last name number creation date\n",
       "0          b        nb      à    2023-01-26"
      ]
     },
     "execution_count": 7,
     "metadata": {},
     "output_type": "execute_result"
    }
   ],
   "source": [
    "list_first_names=[]\n",
    "list_last_names=[]\n",
    "list_numbers=[]\n",
    "list_creation_date=[]\n",
    "\n",
    "choice = input('insérer un contact? Y/N \\n')\n",
    "\n",
    "while choice == 'Y' :\n",
    "    first_name=input('First name: \\n')\n",
    "    list_first_names.append(first_name)\n",
    "    last_name=input('last name: \\n')\n",
    "    list_last_names.append(last_name)\n",
    "    number=input ('number: \\n')\n",
    "    list_numbers.append(number)\n",
    "    date = date.today()\n",
    "    list_creation_date.append(date)\n",
    "    choice = input('insérer un contact? Y/N \\n')\n",
    "\n",
    "Data={\n",
    "    \"first name\":list_first_names ,\n",
    "    \"last name\":list_last_names ,    \n",
    "    \"number\":list_numbers ,\n",
    "    \"creation date\":list_creation_date\n",
    "}\n",
    "\n",
    "dataframe=pd.DataFrame(Data)\n",
    "dataframe.to_csv('Contact.csv', index=False)\n",
    "contact_csv=pd.read_csv('Contact.csv')\n",
    "contact_csv  \n",
    "\n"
   ]
  },
  {
   "attachments": {},
   "cell_type": "markdown",
   "metadata": {},
   "source": [
    "UPDATE"
   ]
  },
  {
   "cell_type": "code",
   "execution_count": null,
   "metadata": {},
   "outputs": [],
   "source": []
  },
  {
   "attachments": {},
   "cell_type": "markdown",
   "metadata": {},
   "source": [
    "BONUS : DELETE"
   ]
  },
  {
   "cell_type": "code",
   "execution_count": null,
   "metadata": {},
   "outputs": [],
   "source": []
  }
 ],
 "metadata": {
  "kernelspec": {
   "display_name": "Python 3.11.1 64-bit",
   "language": "python",
   "name": "python3"
  },
  "language_info": {
   "codemirror_mode": {
    "name": "ipython",
    "version": 3
   },
   "file_extension": ".py",
   "mimetype": "text/x-python",
   "name": "python",
   "nbconvert_exporter": "python",
   "pygments_lexer": "ipython3",
   "version": "3.11.1"
  },
  "orig_nbformat": 4,
  "vscode": {
   "interpreter": {
    "hash": "c62632fe4974420390258073a6de70fe8ba5bba4a66594ff3489578a89ace67f"
   }
  }
 },
 "nbformat": 4,
 "nbformat_minor": 2
}
